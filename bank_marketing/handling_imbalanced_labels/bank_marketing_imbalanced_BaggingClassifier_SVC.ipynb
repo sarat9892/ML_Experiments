{
 "cells": [
  {
   "cell_type": "code",
   "execution_count": 1,
   "id": "47d03347-e73d-47be-846e-4fad8899412a",
   "metadata": {},
   "outputs": [],
   "source": [
    "import mlflow\n",
    "import mlflow.sklearn\n",
    "from mlflow.models import infer_signature\n",
    "\n",
    "\n",
    "import matplotlib.pyplot as plt\n",
    "import numpy as np\n",
    "import pandas as pd\n",
    "import seaborn as sns\n",
    "\n",
    "import itertools\n",
    "\n",
    "from sklearn.ensemble import BaggingClassifier\n",
    "from sklearn.svm import SVC\n",
    "\n",
    "from sklearn.model_selection import cross_val_score\n",
    "from sklearn.metrics import confusion_matrix, classification_report\n",
    "from sklearn.metrics import accuracy_score, precision_score, recall_score, f1_score, roc_curve, roc_auc_score\n",
    "\n",
    "import xgboost as xgb"
   ]
  },
  {
   "cell_type": "markdown",
   "id": "426e551b-9e61-4e19-9cab-221b5abdff6e",
   "metadata": {},
   "source": [
    "### Data"
   ]
  },
  {
   "cell_type": "code",
   "execution_count": 2,
   "id": "2be957c1-f44f-4347-98a8-12e7d9526b64",
   "metadata": {},
   "outputs": [],
   "source": [
    "x_train = \"data/processed/bank_train.csv\"\n",
    "x_test = \"data/processed/bank_test.csv\"\n",
    "x_val = \"data/processed/bank_val.csv\"\n",
    "\n",
    "x_train_data = pd.read_csv(x_train)\n",
    "x_test_data = pd.read_csv(x_test)\n",
    "x_val_data = pd.read_csv(x_val)\n",
    "\n",
    "x_train_data.drop(x_train_data.columns[0], axis=1, inplace=True)\n",
    "x_test_data.drop(x_test_data.columns[0], axis=1, inplace=True)\n",
    "x_val_data.drop(x_val_data.columns[0], axis=1, inplace=True)"
   ]
  },
  {
   "cell_type": "code",
   "execution_count": 3,
   "id": "150faad5-aede-4135-bc44-1dd1f4a31762",
   "metadata": {},
   "outputs": [],
   "source": [
    "y_train = \"data/processed/bank_train_labels.csv\"\n",
    "y_test = \"data/processed/bank_test_labels.csv\"\n",
    "y_val = \"data/processed/bank_val_labels.csv\"\n",
    "\n",
    "y_train_data = pd.read_csv(y_train)\n",
    "y_test_data = pd.read_csv(y_test)\n",
    "y_val_data = pd.read_csv(y_val)\n",
    "\n",
    "y_train_data.drop(y_train_data.columns[0], axis=1, inplace=True)\n",
    "y_test_data.drop(y_test_data.columns[0], axis=1, inplace=True)\n",
    "y_val_data.drop(y_val_data.columns[0], axis=1, inplace=True)"
   ]
  },
  {
   "cell_type": "code",
   "execution_count": 4,
   "id": "082688c9-7c89-4304-817c-acecdcc1d2a2",
   "metadata": {},
   "outputs": [],
   "source": [
    "x_test = pd.concat([x_test_data, x_val_data], ignore_index=True)\n",
    "y_test = pd.concat([y_test_data, y_val_data], ignore_index=True)"
   ]
  },
  {
   "cell_type": "code",
   "execution_count": 5,
   "id": "88ac4568-ab7f-4579-aa2d-0d2dd876fc8a",
   "metadata": {},
   "outputs": [
    {
     "name": "stdout",
     "output_type": "stream",
     "text": [
      "Train Data\n",
      "Total Data Points:  30742\n",
      "Marketing Successful: 27133\n",
      "Marketing Failed: 3609\n",
      "\n",
      "Test Data\n",
      "Total Data Points:  14469\n",
      "Marketing Successful: 12789\n",
      "Marketing Failed: 1680\n"
     ]
    }
   ],
   "source": [
    "label_counts = np.bincount(y_train_data[\"target\"])\n",
    "\n",
    "print(\"Train Data\")\n",
    "print(\"Total Data Points: \", len(x_train_data))\n",
    "print(f\"Marketing Successful: {label_counts[0]}\")\n",
    "print(f\"Marketing Failed: {label_counts[1]}\")\n",
    "\n",
    "label_counts = np.bincount(y_test[\"target\"])\n",
    "\n",
    "print(\"\\nTest Data\")\n",
    "print(\"Total Data Points: \", len(x_test))\n",
    "print(f\"Marketing Successful: {label_counts[0]}\")\n",
    "print(f\"Marketing Failed: {label_counts[1]}\")\n",
    "\n"
   ]
  },
  {
   "cell_type": "markdown",
   "id": "20f66a8a-44bf-4df7-b2dc-7cdf2c773a79",
   "metadata": {},
   "source": [
    "### Estimators"
   ]
  },
  {
   "cell_type": "code",
   "execution_count": 7,
   "id": "6ecf3fe8-aa1a-405d-9475-500c6efd4d69",
   "metadata": {},
   "outputs": [],
   "source": [
    "svm_clf_linear = SVC(C=34,\n",
    "                     kernel='linear',\n",
    "                     class_weight='balanced')\n",
    "\n",
    "svm_clf_rbf = SVC(C=34, class_weight='balanced')\n",
    "\n",
    "svm_clf_poly = SVC(C=25, kernel='poly', degree=3, gamma=0.01)"
   ]
  },
  {
   "cell_type": "markdown",
   "id": "7d235670-7f84-42dc-a9fa-111afeffbdce",
   "metadata": {},
   "source": [
    "### Logging Multiple BaggingClassifier parameters and metrics using MLFlow"
   ]
  },
  {
   "cell_type": "code",
   "execution_count": 8,
   "id": "8c894ae6-93d0-4844-a362-eaf979c93cde",
   "metadata": {},
   "outputs": [
    {
     "name": "stdout",
     "output_type": "stream",
     "text": [
      "Number of parameter combinations:  16\n"
     ]
    }
   ],
   "source": [
    "# Define hyperparameter grid\n",
    "param_grid = {\n",
    "    \"n_estimators\": [5, 10],\n",
    "    \"max_samples\": [0.6, 0.9],\n",
    "    \"max_features\": [0.6, 0.9],\n",
    "    \"bootstrap\": [True, False]\n",
    "}\n",
    "\n",
    "# Create combinations of hyperparameters\n",
    "param_combinations = list(itertools.product(\n",
    "    param_grid[\"n_estimators\"],\n",
    "    param_grid[\"max_samples\"],\n",
    "    param_grid[\"max_features\"],\n",
    "    param_grid[\"bootstrap\"]\n",
    "))\n",
    "\n",
    "print(\"Number of parameter combinations: \", len(param_combinations))"
   ]
  },
  {
   "cell_type": "code",
   "execution_count": 9,
   "id": "2b22ad94-34da-44cc-864f-adee9a703724",
   "metadata": {},
   "outputs": [],
   "source": [
    "def eval_metrics(actual, pred):\n",
    "    acc = accuracy_score(actual, pred)\n",
    "    rec = recall_score(actual, pred)\n",
    "    pre = precision_score(actual, pred)\n",
    "    f1_scr = f1_score(actual, pred)\n",
    "    return acc, rec, pre, f1_scr"
   ]
  },
  {
   "cell_type": "code",
   "execution_count": 26,
   "id": "d64f9ef4-3cc8-471c-8263-48f6bd02f652",
   "metadata": {
    "scrolled": true
   },
   "outputs": [
    {
     "name": "stderr",
     "output_type": "stream",
     "text": [
      "2025/06/10 15:51:35 INFO mlflow.tracking.fluent: Experiment with name '8_SVC_poly_BaggingClassifier' does not exist. Creating a new experiment.\n"
     ]
    },
    {
     "name": "stdout",
     "output_type": "stream",
     "text": [
      "Run complete: Estimators=5, Samples=0.6, Features=0.6, Bootstrap=True,\n",
      "Recall=0.01, Precision=0.70\n",
      "Run complete: Estimators=5, Samples=0.6, Features=0.6, Bootstrap=False,\n",
      "Recall=0.00, Precision=0.38\n",
      "Run complete: Estimators=5, Samples=0.6, Features=0.9, Bootstrap=True,\n",
      "Recall=0.08, Precision=0.65\n",
      "Run complete: Estimators=5, Samples=0.6, Features=0.9, Bootstrap=False,\n",
      "Recall=0.07, Precision=0.68\n",
      "Run complete: Estimators=5, Samples=0.9, Features=0.6, Bootstrap=True,\n",
      "Recall=0.01, Precision=0.71\n",
      "Run complete: Estimators=5, Samples=0.9, Features=0.6, Bootstrap=False,\n",
      "Recall=0.02, Precision=0.58\n",
      "Run complete: Estimators=5, Samples=0.9, Features=0.9, Bootstrap=True,\n",
      "Recall=0.08, Precision=0.67\n",
      "Run complete: Estimators=5, Samples=0.9, Features=0.9, Bootstrap=False,\n",
      "Recall=0.09, Precision=0.66\n",
      "Run complete: Estimators=10, Samples=0.6, Features=0.6, Bootstrap=True,\n",
      "Recall=0.01, Precision=0.58\n"
     ]
    },
    {
     "name": "stderr",
     "output_type": "stream",
     "text": [
      "C:\\Users\\SaratKarasala\\.conda\\envs\\python-ml-1\\Lib\\site-packages\\sklearn\\metrics\\_classification.py:1565: UndefinedMetricWarning: Precision is ill-defined and being set to 0.0 due to no predicted samples. Use `zero_division` parameter to control this behavior.\n",
      "  _warn_prf(average, modifier, f\"{metric.capitalize()} is\", len(result))\n"
     ]
    },
    {
     "name": "stdout",
     "output_type": "stream",
     "text": [
      "Run complete: Estimators=10, Samples=0.6, Features=0.6, Bootstrap=False,\n",
      "Recall=0.00, Precision=0.00\n",
      "Run complete: Estimators=10, Samples=0.6, Features=0.9, Bootstrap=True,\n",
      "Recall=0.06, Precision=0.67\n",
      "Run complete: Estimators=10, Samples=0.6, Features=0.9, Bootstrap=False,\n",
      "Recall=0.05, Precision=0.66\n",
      "Run complete: Estimators=10, Samples=0.9, Features=0.6, Bootstrap=True,\n",
      "Recall=0.01, Precision=0.65\n",
      "Run complete: Estimators=10, Samples=0.9, Features=0.6, Bootstrap=False,\n",
      "Recall=0.01, Precision=0.76\n",
      "Run complete: Estimators=10, Samples=0.9, Features=0.9, Bootstrap=True,\n",
      "Recall=0.09, Precision=0.66\n",
      "Run complete: Estimators=10, Samples=0.9, Features=0.9, Bootstrap=False,\n",
      "Recall=0.08, Precision=0.66\n"
     ]
    }
   ],
   "source": [
    "# Start MLflow experiment\n",
    "mlflow.set_experiment(\"8_SVC_poly_BaggingClassifier\")\n",
    "\n",
    "for n_estimators, max_samples, max_features, bootstrap in param_combinations:\n",
    "    with mlflow.start_run():\n",
    "        # Initialize the BaggingClassifier\n",
    "        model = BaggingClassifier(\n",
    "            estimator=svm_clf_poly,\n",
    "            n_estimators=n_estimators,\n",
    "            max_samples=max_samples,\n",
    "            max_features=max_features,\n",
    "            bootstrap=bootstrap,\n",
    "            n_jobs=-1\n",
    "        )\n",
    "\n",
    "        # Train and evaluate\n",
    "        model.fit(x_train_data, y_train_data[\"target\"])\n",
    "        y_pred = model.predict(x_test)\n",
    "\n",
    "        # Metrics\n",
    "        acc, rec, pre, f1_scr = eval_metrics(y_test[\"target\"], y_pred)\n",
    "\n",
    "        # Signature\n",
    "        # signature = infer_signature(x_train_data[:10000], y_train_data[:10000][\"target\"])\n",
    "\n",
    "        # Log parameters and metrics\n",
    "        metric_eval = {\"Accuracy\": acc, \"Recall\": rec, \"Precision\": pre, \"F1 Score\": f1_scr}\n",
    "        mlflow.log_metrics(metric_eval)\n",
    "        \n",
    "        mlflow.log_param(\"n_estimators\", n_estimators)\n",
    "        mlflow.log_param(\"max_samples\", max_samples)\n",
    "        mlflow.log_param(\"max_features\", max_features)\n",
    "        mlflow.log_param(\"bootstrap\", bootstrap)\n",
    "\n",
    "        # Optionally log the model\n",
    "        # mlflow.sklearn.log_model(model, \"model\", signature=signature)\n",
    "\n",
    "        print(f\"Run complete: Estimators={n_estimators}, Samples={max_samples}, Features={max_features}, Bootstrap={bootstrap},\\nRecall={rec:.2f}, Precision={pre:.2f}\")"
   ]
  },
  {
   "cell_type": "markdown",
   "id": "49754f94-4418-4788-ad1a-46fb1ccd8c13",
   "metadata": {},
   "source": [
    "### Training Model\n"
   ]
  },
  {
   "cell_type": "markdown",
   "id": "3110ccf6-6957-4f3b-a04f-87162944d145",
   "metadata": {},
   "source": [
    "### Bagging Classifier"
   ]
  },
  {
   "cell_type": "markdown",
   "id": "b35754bc-b069-43b5-bc6d-496bb57ed5ca",
   "metadata": {},
   "source": [
    "### Best Parameters for BaggingClassifier"
   ]
  },
  {
   "cell_type": "code",
   "execution_count": 27,
   "id": "e533490f-3419-493b-b169-6877b761de22",
   "metadata": {},
   "outputs": [],
   "source": [
    "classifier = None\n",
    "classifier = BaggingClassifier(estimator = svm_clf_rbf,\n",
    "                               n_estimators = 5,\n",
    "                               max_samples = 0.6,\n",
    "                               max_features = 0.6,\n",
    "                               bootstrap = False,\n",
    "                               warm_start = False,\n",
    "                               n_jobs = -1\n",
    "                              )\n",
    "\n",
    "history = classifier.fit(x_train_data, y_train_data[\"target\"])"
   ]
  },
  {
   "cell_type": "code",
   "execution_count": 28,
   "id": "0f507da4-965e-445a-9061-47e7f3a6efeb",
   "metadata": {},
   "outputs": [],
   "source": [
    "y_pred = classifier.predict(x_test)"
   ]
  },
  {
   "cell_type": "markdown",
   "id": "e9e42e85-11d6-4066-a6d7-1ee4203c0464",
   "metadata": {},
   "source": [
    "### Metrics"
   ]
  },
  {
   "cell_type": "markdown",
   "id": "adf33a51-21f4-4386-abe1-635912d096d3",
   "metadata": {},
   "source": [
    "#### Confusion Matrix"
   ]
  },
  {
   "cell_type": "code",
   "execution_count": 34,
   "id": "85ea6cde-dbcc-4302-b6dd-be6391bd5621",
   "metadata": {},
   "outputs": [],
   "source": [
    "confusionMatrix = confusion_matrix(y_test, y_pred)\n",
    "confusionMatrixNorm = confusion_matrix(y_test, y_pred, normalize='pred')\n",
    "\n",
    "fig, axes = plt.subplots(1,2, figsize=(11,4))\n",
    "\n",
    "sns.heatmap(confusionMatrix, annot=True, ax=axes[0], cmap='YlGnBu', fmt=\"d\")\n",
    "axes[0].set_title(\"Confusion Matrix\")\n",
    "axes[0].set_ylabel(\"True Label\")\n",
    "axes[0].set_xlabel(\"Predicted Label\")\n",
    "\n",
    "sns.heatmap(confusionMatrixNorm, annot=True, cmap='YlGnBu', ax=axes[1])\n",
    "axes[1].set_title(\"Normalized Predictions\")\n",
    "axes[1].set_ylabel(\"True Label\")\n",
    "axes[1].set_xlabel(\"Predicted Label\")\n",
    "\n",
    "plt.show()"
   ]
  },
  {
   "cell_type": "markdown",
   "id": "88ec96fd-c065-4ce3-a0a6-7b18e305b16a",
   "metadata": {},
   "source": [
    "#### Classification Report"
   ]
  },
  {
   "cell_type": "code",
   "execution_count": 33,
   "id": "3e6fabea-31c2-43da-9879-739ad22d0a30",
   "metadata": {},
   "outputs": [],
   "source": [
    "target_names = ['Unsuccessful', 'Successful']\n",
    "print(classification_report(y_test, y_pred, target_names=target_names))"
   ]
  },
  {
   "cell_type": "markdown",
   "id": "d3c81590-173b-4b6c-bd46-42533cfb7bc0",
   "metadata": {},
   "source": [
    "### ROC Curve"
   ]
  },
  {
   "cell_type": "code",
   "execution_count": 32,
   "id": "172e9c09-655c-4053-9ea7-40964ad290d0",
   "metadata": {},
   "outputs": [],
   "source": [
    "probabilities = classifier.predict_proba(x_test)[:,1]\n",
    "\n",
    "fpr, tpr, thresholds = roc_curve(y_test,  probabilities)\n",
    "auc = roc_auc_score(y_test, probabilities)\n",
    "\n",
    "plt.plot(fpr,tpr,label=\"AUC = \"+str(auc))\n",
    "plt.xlabel(\"False Positive Rate\")\n",
    "plt.ylabel(\"True Positive Rate\")\n",
    "plt.legend(loc=4)\n",
    "plt.show()"
   ]
  },
  {
   "cell_type": "markdown",
   "id": "564caaaf-e9db-4fbd-bcea-8c5a44e0a6f4",
   "metadata": {},
   "source": [
    "### Custom Threshold"
   ]
  },
  {
   "cell_type": "code",
   "execution_count": null,
   "id": "ab560e54-ac2c-4314-9466-6edce7ec8d3a",
   "metadata": {},
   "outputs": [],
   "source": [
    "threshold = 0.5\n",
    "custom_predictions = (probabilities > threshold).astype(int)"
   ]
  },
  {
   "cell_type": "markdown",
   "id": "7f935fd2-fbf0-4ba3-bdaf-7568286b9b54",
   "metadata": {},
   "source": [
    "## Results"
   ]
  },
  {
   "cell_type": "markdown",
   "id": "20c09507-4763-4d9e-b019-6151ae27d7fd",
   "metadata": {},
   "source": [
    "### Bagging Classifier - Decision Tree"
   ]
  },
  {
   "cell_type": "markdown",
   "id": "fea7dc00-2f75-4288-90ee-bef30a775dd5",
   "metadata": {},
   "source": [
    "#### Confusion Matrix"
   ]
  },
  {
   "cell_type": "code",
   "execution_count": 9,
   "id": "d6d7b3df-08fe-4ed5-ae70-27e9ecf7c458",
   "metadata": {},
   "outputs": [
    {
     "data": {
      "image/png": "[encoded data removed]",
      "text/plain": [
       "<Figure size 1100x400 with 4 Axes>"
      ]
     },
     "metadata": {},
     "output_type": "display_data"
    }
   ],
   "source": []
  },
  {
   "cell_type": "markdown",
   "id": "9e5317e7-dd5a-4a5a-9ba1-c4a035759168",
   "metadata": {},
   "source": [
    "#### Classification Report"
   ]
  },
  {
   "cell_type": "code",
   "execution_count": 10,
   "id": "999fd6a5-ba72-45e3-bb75-5ff0db06acb8",
   "metadata": {},
   "outputs": [
    {
     "name": "stdout",
     "output_type": "stream",
     "text": [
      "              precision    recall  f1-score   support\n",
      "\n",
      "Unsuccessful       0.91      0.98      0.94     12789\n",
      "  Successful       0.58      0.25      0.35      1680\n",
      "\n",
      "    accuracy                           0.89     14469\n",
      "   macro avg       0.74      0.61      0.64     14469\n",
      "weighted avg       0.87      0.89      0.87     14469\n",
      "\n"
     ]
    }
   ],
   "source": []
  },
  {
   "cell_type": "markdown",
   "id": "e96eff70-ef77-4075-b4b2-16b3cd5735e0",
   "metadata": {},
   "source": [
    "### Bagging Classifier - Linear SVC"
   ]
  },
  {
   "cell_type": "markdown",
   "id": "6453253f-ed67-46fe-a2cb-f9e020398bdc",
   "metadata": {},
   "source": [
    "#### Confusion Matrix"
   ]
  },
  {
   "cell_type": "code",
   "execution_count": 23,
   "id": "032723b8-0c58-428a-bdc4-58bf1fb2ea46",
   "metadata": {},
   "outputs": [
    {
     "data": {
      "image/png": "[encoded data removed]",
      "text/plain": [
       "<Figure size 1100x400 with 4 Axes>"
      ]
     },
     "metadata": {},
     "output_type": "display_data"
    }
   ],
   "source": []
  },
  {
   "cell_type": "markdown",
   "id": "a4f5929f-03b0-44ea-8a00-3b75540af265",
   "metadata": {},
   "source": [
    "#### Classification Report"
   ]
  },
  {
   "cell_type": "code",
   "execution_count": 24,
   "id": "6845ab2c-f5e5-4c4b-9dbe-019e866dae20",
   "metadata": {},
   "outputs": [
    {
     "name": "stdout",
     "output_type": "stream",
     "text": [
      "              precision    recall  f1-score   support\n",
      "\n",
      "Unsuccessful       0.97      0.77      0.86     12789\n",
      "  Successful       0.33      0.84      0.47      1680\n",
      "\n",
      "    accuracy                           0.78     14469\n",
      "   macro avg       0.65      0.81      0.67     14469\n",
      "weighted avg       0.90      0.78      0.82     14469\n",
      "\n"
     ]
    }
   ],
   "source": []
  },
  {
   "cell_type": "markdown",
   "id": "c4adf679-c836-4de1-870f-c1d612ad4a1a",
   "metadata": {},
   "source": [
    "### Bagging Classifier - SVC RBF"
   ]
  },
  {
   "cell_type": "markdown",
   "id": "b90ac710-ee5a-4da4-a1b2-e8684e326875",
   "metadata": {},
   "source": [
    "#### Confusion Matrix"
   ]
  },
  {
   "cell_type": "code",
   "execution_count": 29,
   "id": "25363aca-27ab-42d2-809f-e99e92dbd318",
   "metadata": {},
   "outputs": [
    {
     "data": {
      "image/png": "[encoded data removed]",
      "text/plain": [
       "<Figure size 1100x400 with 4 Axes>"
      ]
     },
     "metadata": {},
     "output_type": "display_data"
    }
   ],
   "source": []
  },
  {
   "cell_type": "markdown",
   "id": "7fb6c064-31f6-42d9-9155-79bc799af998",
   "metadata": {},
   "source": [
    "#### Classification Report"
   ]
  },
  {
   "cell_type": "code",
   "execution_count": 30,
   "id": "42b427c1-2fb0-4e5c-9148-5e7e2c7e6c3f",
   "metadata": {},
   "outputs": [
    {
     "name": "stdout",
     "output_type": "stream",
     "text": [
      "              precision    recall  f1-score   support\n",
      "\n",
      "Unsuccessful       0.96      0.83      0.89     12789\n",
      "  Successful       0.36      0.74      0.48      1680\n",
      "\n",
      "    accuracy                           0.82     14469\n",
      "   macro avg       0.66      0.78      0.69     14469\n",
      "weighted avg       0.89      0.82      0.84     14469\n",
      "\n"
     ]
    }
   ],
   "source": []
  }
 ],
 "metadata": {
  "kernelspec": {
   "display_name": "python-ml-1",
   "language": "python",
   "name": "python-ml-1"
  },
  "language_info": {
   "codemirror_mode": {
    "name": "ipython",
    "version": 3
   },
   "file_extension": ".py",
   "mimetype": "text/x-python",
   "name": "python",
   "nbconvert_exporter": "python",
   "pygments_lexer": "ipython3",
   "version": "3.12.9"
  }
 },
 "nbformat": 4,
 "nbformat_minor": 5
}
