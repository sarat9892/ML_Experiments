{
 "cells": [
  {
   "cell_type": "code",
   "execution_count": 41,
   "id": "47d03347-e73d-47be-846e-4fad8899412a",
   "metadata": {},
   "outputs": [],
   "source": [
    "import mlflow\n",
    "\n",
    "from collections import Counter\n",
    "\n",
    "import matplotlib.pyplot as plt\n",
    "import numpy as np\n",
    "import pandas as pd\n",
    "import seaborn as sns\n",
    "\n",
    "\n",
    "from sklearn.ensemble import BaggingClassifier\n",
    "from sklearn.svm import SVC\n",
    "\n",
    "from sklearn.model_selection import cross_val_score\n",
    "from sklearn.metrics import confusion_matrix, classification_report\n",
    "from sklearn.metrics import accuracy_score, precision_score, recall_score, f1_score, roc_curve, roc_auc_score\n",
    "\n",
    "import xgboost as xgb"
   ]
  },
  {
   "cell_type": "markdown",
   "id": "426e551b-9e61-4e19-9cab-221b5abdff6e",
   "metadata": {},
   "source": [
    "### Data"
   ]
  },
  {
   "cell_type": "code",
   "execution_count": 42,
   "id": "2be957c1-f44f-4347-98a8-12e7d9526b64",
   "metadata": {},
   "outputs": [],
   "source": [
    "x_train = \"data/processed/bank_train.csv\"\n",
    "x_test = \"data/processed/bank_test.csv\"\n",
    "x_val = \"data/processed/bank_val.csv\"\n",
    "\n",
    "x_train_data = pd.read_csv(x_train)\n",
    "x_test_data = pd.read_csv(x_test)\n",
    "x_val_data = pd.read_csv(x_val)\n",
    "\n",
    "x_train_data.drop(x_train_data.columns[0], axis=1, inplace=True)\n",
    "x_test_data.drop(x_test_data.columns[0], axis=1, inplace=True)\n",
    "x_val_data.drop(x_val_data.columns[0], axis=1, inplace=True)"
   ]
  },
  {
   "cell_type": "code",
   "execution_count": 43,
   "id": "150faad5-aede-4135-bc44-1dd1f4a31762",
   "metadata": {},
   "outputs": [],
   "source": [
    "y_train = \"data/processed/bank_train_labels.csv\"\n",
    "y_test = \"data/processed/bank_test_labels.csv\"\n",
    "y_val = \"data/processed/bank_val_labels.csv\"\n",
    "\n",
    "y_train_data = pd.read_csv(y_train)\n",
    "y_test_data = pd.read_csv(y_test)\n",
    "y_val_data = pd.read_csv(y_val)\n",
    "\n",
    "y_train_data.drop(y_train_data.columns[0], axis=1, inplace=True)\n",
    "y_test_data.drop(y_test_data.columns[0], axis=1, inplace=True)\n",
    "y_val_data.drop(y_val_data.columns[0], axis=1, inplace=True)"
   ]
  },
  {
   "cell_type": "markdown",
   "id": "c04c93ef-c392-4920-acb6-c48844e111ef",
   "metadata": {},
   "source": [
    "### Combining Test and Validation datasets"
   ]
  },
  {
   "cell_type": "code",
   "execution_count": 44,
   "id": "082688c9-7c89-4304-817c-acecdcc1d2a2",
   "metadata": {},
   "outputs": [],
   "source": [
    "x_test = pd.concat([x_test_data, x_val_data], ignore_index=True)\n",
    "y_test = pd.concat([y_test_data, y_val_data], ignore_index=True)"
   ]
  },
  {
   "cell_type": "code",
   "execution_count": 45,
   "id": "88ac4568-ab7f-4579-aa2d-0d2dd876fc8a",
   "metadata": {},
   "outputs": [
    {
     "name": "stdout",
     "output_type": "stream",
     "text": [
      "Train Data\n",
      "Total Data Points:  30742\n",
      "Marketing Successful: 3609\n",
      "Marketing Failed: 27133\n",
      "\n",
      "Test Data\n",
      "Total Data Points:  14469\n",
      "Marketing Successful: 1680\n",
      "Marketing Failed: 12789\n"
     ]
    }
   ],
   "source": [
    "label_counts = np.bincount(y_train_data[\"target\"])\n",
    "\n",
    "print(\"Train Data\")\n",
    "print(\"Total Data Points: \", len(y_train_data))\n",
    "print(f\"Marketing Successful: {label_counts[1]}\")\n",
    "print(f\"Marketing Failed: {label_counts[0]}\")\n",
    "\n",
    "label_counts = np.bincount(y_test[\"target\"])\n",
    "\n",
    "print(\"\\nTest Data\")\n",
    "print(\"Total Data Points: \", len(y_test))\n",
    "print(f\"Marketing Successful: {label_counts[1]}\")\n",
    "print(f\"Marketing Failed: {label_counts[0]}\")\n",
    "\n"
   ]
  },
  {
   "cell_type": "markdown",
   "id": "85d39a85-703e-46e7-bd37-4bf3406a98b3",
   "metadata": {},
   "source": [
    "### Merging the Features and Labels for splitting the Train data into Positive Label sized chunks"
   ]
  },
  {
   "cell_type": "code",
   "execution_count": 46,
   "id": "2493faaf-2c8c-4af5-94ee-6f0cb5eeb47d",
   "metadata": {},
   "outputs": [],
   "source": [
    "train_data = pd.concat([x_train_data, y_train_data], axis=1)"
   ]
  },
  {
   "cell_type": "code",
   "execution_count": 47,
   "id": "c48b87c0-a429-489c-afa5-e9044b8c34f5",
   "metadata": {},
   "outputs": [],
   "source": [
    "label_0_index = train_data[train_data['target'] == 0].index\n",
    "label_1_index = train_data[train_data['target'] == 1].index"
   ]
  },
  {
   "cell_type": "markdown",
   "id": "89c03ca1-fd7f-41d9-a421-2ab9804e8f75",
   "metadata": {},
   "source": [
    "#### Negative Samples: 27k\n",
    "#### Positive Samples: 3.6k\n",
    "\n",
    "#### Ratio: 7.5"
   ]
  },
  {
   "cell_type": "code",
   "execution_count": 48,
   "id": "ecd74818-308e-4607-b467-e49c3595c135",
   "metadata": {},
   "outputs": [],
   "source": [
    "label_0_splits = np.array_split(label_0_index, 7)"
   ]
  },
  {
   "cell_type": "code",
   "execution_count": 49,
   "id": "5a9887ec-b245-475c-8897-3d11c1b4a91f",
   "metadata": {},
   "outputs": [
    {
     "name": "stdout",
     "output_type": "stream",
     "text": [
      "Negative Label Sample 0 Count:  3877\n",
      "Negative Label Sample 1 Count:  3876\n",
      "Negative Label Sample 2 Count:  3876\n",
      "Negative Label Sample 3 Count:  3876\n",
      "Negative Label Sample 4 Count:  3876\n",
      "Negative Label Sample 5 Count:  3876\n",
      "Negative Label Sample 6 Count:  3876\n"
     ]
    }
   ],
   "source": [
    "for idx in range(len(label_0_splits)):\n",
    "    print(f\"Negative Label Sample {idx} Count: \", len(label_0_splits[idx]))"
   ]
  },
  {
   "cell_type": "markdown",
   "id": "82efc7a8-406f-4ee8-9662-c51736644e35",
   "metadata": {},
   "source": [
    "### Creating 7 new dataframes with balanced positive and negative labels"
   ]
  },
  {
   "cell_type": "code",
   "execution_count": 50,
   "id": "60b05475-71f1-4696-8bf5-32fe6b80777f",
   "metadata": {},
   "outputs": [],
   "source": [
    "label_0_train_dataframes = [train_data.loc[indices].copy() for indices in label_0_splits]\n",
    "label_1_df = train_data.loc[label_1_index].copy()"
   ]
  },
  {
   "cell_type": "code",
   "execution_count": 51,
   "id": "7342c3c8-365d-4ee4-985d-d63072a0da15",
   "metadata": {},
   "outputs": [
    {
     "data": {
      "text/plain": [
       "pandas.core.frame.DataFrame"
      ]
     },
     "execution_count": 51,
     "metadata": {},
     "output_type": "execute_result"
    }
   ],
   "source": [
    "train_dataframes = []\n",
    "\n",
    "for i in range(len(label_0_train_dataframes)):\n",
    "    train_dataframes.append(pd.concat([label_0_train_dataframes[i], label_1_df], axis=0))\n",
    "    train_dataframes[i] = train_dataframes[i].sample(frac=1).reset_index(drop=True)\n",
    "\n",
    "type(train_dataframes[0])"
   ]
  },
  {
   "cell_type": "markdown",
   "id": "49754f94-4418-4788-ad1a-46fb1ccd8c13",
   "metadata": {},
   "source": [
    "### Training Model\n"
   ]
  },
  {
   "cell_type": "markdown",
   "id": "1b908583-ef43-4147-bea6-680caef06f8b",
   "metadata": {},
   "source": [
    "### Estimators"
   ]
  },
  {
   "cell_type": "code",
   "execution_count": 52,
   "id": "ecceb72e-440a-4d86-901d-070bd712dc0a",
   "metadata": {},
   "outputs": [],
   "source": [
    "svm_clf_linear = SVC(C=34, kernel='linear')\n",
    "svm_clf_rbf = SVC(C=34)\n",
    "svm_clf_poly = SVC(C=25, kernel='poly', degree=3, gamma=0.01)"
   ]
  },
  {
   "cell_type": "markdown",
   "id": "11e5dae2-7032-4c99-bb29-2e66cdca7f36",
   "metadata": {},
   "source": [
    "### Training Multiple Models"
   ]
  },
  {
   "cell_type": "code",
   "execution_count": 53,
   "id": "e533490f-3419-493b-b169-6877b761de22",
   "metadata": {},
   "outputs": [
    {
     "name": "stdout",
     "output_type": "stream",
     "text": [
      "1 Model[s] Trained\n",
      "2 Model[s] Trained\n",
      "3 Model[s] Trained\n",
      "4 Model[s] Trained\n",
      "5 Model[s] Trained\n",
      "6 Model[s] Trained\n",
      "7 Model[s] Trained\n"
     ]
    }
   ],
   "source": [
    "classifiers = []\n",
    "histories = []\n",
    "\n",
    "for clf_idx in range(len(train_dataframes)):\n",
    "    x_train_data = train_dataframes[clf_idx].drop(labels=\"target\", axis = 1)\n",
    "    y_train_data = train_dataframes[clf_idx]['target']\n",
    "\n",
    "    classifiers.append(svm_clf_poly)\n",
    "    histories.append(classifiers[clf_idx].fit(x_train_data, y_train_data))\n",
    "\n",
    "    print(f\"{clf_idx + 1} Model[s] Trained\")"
   ]
  },
  {
   "cell_type": "markdown",
   "id": "4224e570-a4a7-41a6-acf4-933cc7f56be5",
   "metadata": {},
   "source": [
    "### Generating Multiple 7 Sets of Predictions for the Test Data"
   ]
  },
  {
   "cell_type": "code",
   "execution_count": 54,
   "id": "51db6e4f-c4eb-4c83-8331-76ebf4a2baa8",
   "metadata": {},
   "outputs": [],
   "source": [
    "y_preds = [each_clf.predict(x_test) for each_clf in classifiers]"
   ]
  },
  {
   "cell_type": "markdown",
   "id": "8493093a-4715-4545-925b-9d16b77e9a86",
   "metadata": {},
   "source": [
    "### Getting the final Prediction using Max Vote Count"
   ]
  },
  {
   "cell_type": "code",
   "execution_count": 55,
   "id": "bc3c00a8-fbfa-4a87-b91a-bed54de9012a",
   "metadata": {},
   "outputs": [],
   "source": [
    "final_preds = []\n",
    "\n",
    "for row_idx in range(len(x_test)):\n",
    "\n",
    "    predictions = [y_preds[clf_idx][row_idx] for clf_idx in range(len(y_preds))]\n",
    "\n",
    "    element_counts = Counter(predictions)\n",
    "    max_prediction = max(element_counts, key=element_counts.get)\n",
    "\n",
    "    final_preds.append(int(max_prediction))"
   ]
  },
  {
   "cell_type": "markdown",
   "id": "e9e42e85-11d6-4066-a6d7-1ee4203c0464",
   "metadata": {},
   "source": [
    "### Metrics"
   ]
  },
  {
   "cell_type": "markdown",
   "id": "adf33a51-21f4-4386-abe1-635912d096d3",
   "metadata": {},
   "source": [
    "#### Confusion Matrix"
   ]
  },
  {
   "cell_type": "code",
   "execution_count": 58,
   "id": "85ea6cde-dbcc-4302-b6dd-be6391bd5621",
   "metadata": {},
   "outputs": [],
   "source": [
    "confusionMatrix = confusion_matrix(y_test, final_preds)\n",
    "confusionMatrixNorm = confusion_matrix(y_test, final_preds, normalize='pred')\n",
    "\n",
    "fig, axes = plt.subplots(1,2, figsize=(11,4))\n",
    "\n",
    "sns.heatmap(confusionMatrix, annot=True, ax=axes[0], cmap='YlGnBu', fmt=\"d\")\n",
    "axes[0].set_title(\"Confusion Matrix\")\n",
    "axes[0].set_ylabel(\"True Label\")\n",
    "axes[0].set_xlabel(\"Predicted Label\")\n",
    "\n",
    "sns.heatmap(confusionMatrixNorm, annot=True, cmap='YlGnBu', ax=axes[1])\n",
    "axes[1].set_title(\"Normalized Predictions\")\n",
    "axes[1].set_ylabel(\"True Label\")\n",
    "axes[1].set_xlabel(\"Predicted Label\")\n",
    "\n",
    "plt.show()"
   ]
  },
  {
   "cell_type": "markdown",
   "id": "88ec96fd-c065-4ce3-a0a6-7b18e305b16a",
   "metadata": {},
   "source": [
    "#### Classification Report"
   ]
  },
  {
   "cell_type": "code",
   "execution_count": 59,
   "id": "3e6fabea-31c2-43da-9879-739ad22d0a30",
   "metadata": {},
   "outputs": [],
   "source": [
    "target_names = ['Unsuccessful', 'Successful']\n",
    "print(classification_report(y_test, final_preds, target_names=target_names))"
   ]
  },
  {
   "cell_type": "code",
   "execution_count": null,
   "id": "f6aef599-4fd8-4d78-ae44-4f79df98739c",
   "metadata": {},
   "outputs": [],
   "source": []
  },
  {
   "cell_type": "code",
   "execution_count": null,
   "id": "54b532d6-e17c-4e0c-985d-6eafbf032e14",
   "metadata": {},
   "outputs": [],
   "source": []
  },
  {
   "cell_type": "code",
   "execution_count": null,
   "id": "72765e05-517c-4459-9290-67131a74cd9e",
   "metadata": {},
   "outputs": [],
   "source": []
  },
  {
   "cell_type": "markdown",
   "id": "ff389a6c-adcb-4dc7-9ced-76f3608a48c9",
   "metadata": {},
   "source": [
    "### SVC Linear"
   ]
  },
  {
   "cell_type": "markdown",
   "id": "d28abfcc-2636-418f-acae-9bf5e13e74b0",
   "metadata": {},
   "source": [
    "#### Confusion Matrix"
   ]
  },
  {
   "cell_type": "code",
   "execution_count": 22,
   "id": "5337cf8f-ea19-4251-91c3-89465d6155fc",
   "metadata": {},
   "outputs": [
    {
     "data": {
      "image/png": "[encoded data removed]",
      "text/plain": [
       "<Figure size 1100x400 with 4 Axes>"
      ]
     },
     "metadata": {},
     "output_type": "display_data"
    }
   ],
   "source": []
  },
  {
   "cell_type": "markdown",
   "id": "ed8095a7-1eff-44c9-bc8b-5ef9c4981987",
   "metadata": {},
   "source": [
    "#### Classification Report"
   ]
  },
  {
   "cell_type": "code",
   "execution_count": 23,
   "id": "b58c951a-36d8-4ad9-9164-234e25b3ca7a",
   "metadata": {},
   "outputs": [
    {
     "name": "stdout",
     "output_type": "stream",
     "text": [
      "              precision    recall  f1-score   support\n",
      "\n",
      "Unsuccessful       0.97      0.84      0.90     12789\n",
      "  Successful       0.39      0.78      0.52      1680\n",
      "\n",
      "    accuracy                           0.84     14469\n",
      "   macro avg       0.68      0.81      0.71     14469\n",
      "weighted avg       0.90      0.84      0.86     14469\n",
      "\n"
     ]
    }
   ],
   "source": []
  },
  {
   "cell_type": "markdown",
   "id": "c2e4c55d-40a2-458c-b8e9-427d857b551e",
   "metadata": {},
   "source": [
    "### SVC RBF"
   ]
  },
  {
   "cell_type": "markdown",
   "id": "2d1877b0-229f-4cd6-b059-fa0a335ee943",
   "metadata": {},
   "source": [
    "#### Confusion Matrix"
   ]
  },
  {
   "cell_type": "code",
   "execution_count": 39,
   "id": "486336f6-1771-4535-9b41-32edac18eafc",
   "metadata": {},
   "outputs": [
    {
     "data": {
      "image/png": "[encoded data removed]",
      "text/plain": [
       "<Figure size 1100x400 with 4 Axes>"
      ]
     },
     "metadata": {},
     "output_type": "display_data"
    }
   ],
   "source": []
  },
  {
   "cell_type": "markdown",
   "id": "bcf126c6-6091-45b6-a000-229eafc05b7f",
   "metadata": {},
   "source": [
    "#### Classification Report"
   ]
  },
  {
   "cell_type": "code",
   "execution_count": 40,
   "id": "4d98af2e-5216-4e3d-b511-a42636998038",
   "metadata": {},
   "outputs": [
    {
     "name": "stdout",
     "output_type": "stream",
     "text": [
      "              precision    recall  f1-score   support\n",
      "\n",
      "Unsuccessful       0.97      0.80      0.88     12789\n",
      "  Successful       0.34      0.79      0.48      1680\n",
      "\n",
      "    accuracy                           0.80     14469\n",
      "   macro avg       0.66      0.80      0.68     14469\n",
      "weighted avg       0.89      0.80      0.83     14469\n",
      "\n"
     ]
    }
   ],
   "source": []
  },
  {
   "cell_type": "markdown",
   "id": "85346e80-a394-4ed0-bb1a-e2049adb20c9",
   "metadata": {},
   "source": [
    "### SVC Poly"
   ]
  },
  {
   "cell_type": "markdown",
   "id": "5874f805-a105-4266-aece-3598dfa495fc",
   "metadata": {},
   "source": [
    "#### Confusion Matrix"
   ]
  },
  {
   "cell_type": "code",
   "execution_count": 56,
   "id": "99cec158-0b89-481f-b9e2-9b66fbd9b836",
   "metadata": {},
   "outputs": [
    {
     "data": {
      "image/png": "[encoded data removed]",
      "text/plain": [
       "<Figure size 1100x400 with 4 Axes>"
      ]
     },
     "metadata": {},
     "output_type": "display_data"
    }
   ],
   "source": []
  },
  {
   "cell_type": "markdown",
   "id": "f23fd5f3-a662-4286-a01a-32be9d4bb4a0",
   "metadata": {},
   "source": [
    "#### Classification Report"
   ]
  },
  {
   "cell_type": "code",
   "execution_count": 57,
   "id": "c7bd3643-179c-46ce-b758-2b8217fa8775",
   "metadata": {},
   "outputs": [
    {
     "name": "stdout",
     "output_type": "stream",
     "text": [
      "              precision    recall  f1-score   support\n",
      "\n",
      "Unsuccessful       0.96      0.88      0.92     12789\n",
      "  Successful       0.43      0.69      0.53      1680\n",
      "\n",
      "    accuracy                           0.86     14469\n",
      "   macro avg       0.69      0.78      0.72     14469\n",
      "weighted avg       0.89      0.86      0.87     14469\n",
      "\n"
     ]
    }
   ],
   "source": []
  },
  {
   "cell_type": "markdown",
   "id": "36d53a0e-6e97-4fec-944f-fa5e487d7b8e",
   "metadata": {},
   "source": []
  },
  {
   "cell_type": "markdown",
   "id": "5472cbca-4771-4770-9102-1b08c5108945",
   "metadata": {},
   "source": []
  },
  {
   "cell_type": "code",
   "execution_count": null,
   "id": "5b93cd39-1138-4507-a10d-515540950efc",
   "metadata": {},
   "outputs": [],
   "source": []
  }
 ],
 "metadata": {
  "kernelspec": {
   "display_name": "python-ml-1",
   "language": "python",
   "name": "python-ml-1"
  },
  "language_info": {
   "codemirror_mode": {
    "name": "ipython",
    "version": 3
   },
   "file_extension": ".py",
   "mimetype": "text/x-python",
   "name": "python",
   "nbconvert_exporter": "python",
   "pygments_lexer": "ipython3",
   "version": "3.12.9"
  }
 },
 "nbformat": 4,
 "nbformat_minor": 5
}
