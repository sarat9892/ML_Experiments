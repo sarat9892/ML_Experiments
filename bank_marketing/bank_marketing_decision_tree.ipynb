{
 "cells": [
  {
   "cell_type": "code",
   "execution_count": 1,
   "id": "d7e2d610-d824-4cd7-9c47-fd9eccfcbc48",
   "metadata": {},
   "outputs": [],
   "source": [
    "import pandas as pd\n",
    "import numpy as np\n",
    "\n",
    "import matplotlib.pyplot as plt\n",
    "import seaborn as sns\n",
    "\n",
    "from sklearn.tree import DecisionTreeClassifier\n",
    "from sklearn.ensemble import RandomForestClassifier, GradientBoostingClassifier\n",
    "from sklearn.naive_bayes import GaussianNB\n",
    "from sklearn.neighbors import KNeighborsClassifier\n",
    "\n",
    "from sklearn.metrics import confusion_matrix, classification_report, roc_curve, roc_auc_score"
   ]
  },
  {
   "cell_type": "markdown",
   "id": "4604c146-8287-47f7-b3fa-6928375dc040",
   "metadata": {},
   "source": [
    "### CSV"
   ]
  },
  {
   "cell_type": "code",
   "execution_count": 2,
   "id": "4112e2b9-c83a-4ef3-b03b-8450e1e50588",
   "metadata": {},
   "outputs": [],
   "source": [
    "bank_train_csv = \"data/processed/bank_train.csv\"\n",
    "bank_test_csv = \"data/processed/bank_test.csv\"\n",
    "bank_val_csv = \"data/processed/bank_val.csv\"\n",
    "\n",
    "labels_train = \"data/processed/bank_train_labels.csv\"\n",
    "labels_test = \"data/processed/bank_test_labels.csv\"\n",
    "labels_val = \"data/processed/bank_val_labels.csv\""
   ]
  },
  {
   "cell_type": "markdown",
   "id": "33b11db6-c502-448f-962c-eaf1dca59a59",
   "metadata": {},
   "source": [
    "### Labels"
   ]
  },
  {
   "cell_type": "code",
   "execution_count": 3,
   "id": "242a4f9c-9ab1-48f8-a675-8519ba58b555",
   "metadata": {},
   "outputs": [],
   "source": [
    "labels_train_data = pd.read_csv(labels_train)\n",
    "labels_train_data.drop(labels_train_data.columns[0], axis=1, inplace=True)\n",
    "\n",
    "labels_test_data = pd.read_csv(labels_test)\n",
    "labels_test_data.drop(labels_test_data.columns[0], axis=1, inplace=True)\n",
    "\n",
    "labels_val_data = pd.read_csv(labels_val)\n",
    "labels_val_data.drop(labels_val_data.columns[0], axis=1, inplace=True)"
   ]
  },
  {
   "cell_type": "markdown",
   "id": "dfde8e6d-f7e4-4c47-ae06-c27c7f3169d2",
   "metadata": {},
   "source": [
    "### Features"
   ]
  },
  {
   "cell_type": "code",
   "execution_count": 4,
   "id": "eaf5f43e-738f-4309-80de-a981ca3420d4",
   "metadata": {},
   "outputs": [],
   "source": [
    "bank_train_data = pd.read_csv(bank_train_csv)\n",
    "bank_test_data = pd.read_csv(bank_test_csv)\n",
    "bank_val_data = pd.read_csv(bank_val_csv)\n",
    "\n",
    "bank_train_data.drop(bank_train_data.columns[0], axis=1, inplace=True)\n",
    "bank_test_data.drop(bank_test_data.columns[0], axis=1, inplace=True)\n",
    "bank_val_data.drop(bank_val_data.columns[0], axis=1, inplace=True)"
   ]
  },
  {
   "cell_type": "markdown",
   "id": "8a56ae27-7c58-4c31-b7c9-6b57e39232a2",
   "metadata": {},
   "source": [
    "#### Combining test and validation data"
   ]
  },
  {
   "cell_type": "code",
   "execution_count": 5,
   "id": "63e422e5-b5ea-447a-be5c-996845187433",
   "metadata": {},
   "outputs": [],
   "source": [
    "x_test = pd.concat([bank_test_data, bank_val_data], ignore_index=True)\n",
    "y_test = pd.concat([labels_test_data, labels_val_data], ignore_index=True)"
   ]
  },
  {
   "cell_type": "code",
   "execution_count": null,
   "id": "c33f3503-cffb-4110-a3c4-66d428c6e844",
   "metadata": {},
   "outputs": [],
   "source": []
  },
  {
   "cell_type": "markdown",
   "id": "e89832f9-7b50-4b3a-beff-d5f715a2c0a3",
   "metadata": {},
   "source": [
    "### Decision Tree Classifier"
   ]
  },
  {
   "cell_type": "code",
   "execution_count": 6,
   "id": "025da86a-efb7-4d41-9bed-57075eb120bf",
   "metadata": {},
   "outputs": [],
   "source": [
    "# classifier = DecisionTreeClassifier(criterion='gini',\n",
    "#                                        max_depth=8,\n",
    "#                                        class_weight='balanced')\n",
    "\n",
    "# history = classifier.fit(bank_train_data, labels_train_data[\"target\"])"
   ]
  },
  {
   "cell_type": "markdown",
   "id": "91b49d39-fa95-4d62-be77-5a2ac9c06301",
   "metadata": {},
   "source": [
    "### Random Forest Classifier"
   ]
  },
  {
   "cell_type": "code",
   "execution_count": 7,
   "id": "554c316a-8812-48db-9cc5-e17f2b8ef31a",
   "metadata": {},
   "outputs": [],
   "source": [
    "# classifier = RandomForestClassifier(n_estimators=50,\n",
    "#                                     criterion='log_loss',\n",
    "#                                     class_weight='balanced_subsample')\n",
    "\n",
    "# history = classifier.fit(bank_train_data, labels_train_data[\"target\"])"
   ]
  },
  {
   "cell_type": "markdown",
   "id": "3dd83f96-d3f6-4e0d-9792-27009175c074",
   "metadata": {},
   "source": [
    "### Gradient Boosting Classifier"
   ]
  },
  {
   "cell_type": "code",
   "execution_count": 8,
   "id": "82c1be53-1068-4ef8-a0c4-ba73edc0c010",
   "metadata": {},
   "outputs": [],
   "source": [
    "classifier = GradientBoostingClassifier(n_estimators=100, learning_rate=0.1,\n",
    "                                    loss='log_loss', max_depth=3)\n",
    "\n",
    "history = classifier.fit(bank_train_data, labels_train_data[\"target\"])"
   ]
  },
  {
   "cell_type": "code",
   "execution_count": null,
   "id": "a2f70763-9826-4158-a7ea-7a9222b42d5c",
   "metadata": {},
   "outputs": [],
   "source": []
  },
  {
   "cell_type": "code",
   "execution_count": null,
   "id": "7fb716d7-9390-454f-8d12-8094d692b6a6",
   "metadata": {},
   "outputs": [],
   "source": []
  },
  {
   "cell_type": "code",
   "execution_count": null,
   "id": "3d6c7ad6-6a42-4869-aba5-4b1b52cf1ad4",
   "metadata": {},
   "outputs": [],
   "source": []
  },
  {
   "cell_type": "code",
   "execution_count": 9,
   "id": "6a9347cb-c455-4d90-b36b-b58f5338eb8b",
   "metadata": {},
   "outputs": [],
   "source": [
    "y_pred = classifier.predict(x_test)\n",
    "\n",
    "probabilities = classifier.predict_proba(x_test)"
   ]
  },
  {
   "cell_type": "markdown",
   "id": "97c88241-a2a7-4c26-b01d-9c3fb940385d",
   "metadata": {},
   "source": [
    "### Custom Threshold"
   ]
  },
  {
   "cell_type": "code",
   "execution_count": 10,
   "id": "fe0d2337-75c1-4ee3-b40e-cd436f42b2f9",
   "metadata": {},
   "outputs": [],
   "source": [
    "positive_prob = probabilities[:,1]\n",
    "\n",
    "threshold = 0.2\n",
    "\n",
    "custom_predictions = (positive_prob > threshold).astype(int)"
   ]
  },
  {
   "cell_type": "code",
   "execution_count": 11,
   "id": "b1a34e7a-2670-47eb-a274-e278ab61e262",
   "metadata": {},
   "outputs": [],
   "source": [
    "confusionMatrix = confusion_matrix(y_test, y_pred)\n",
    "confusionMatrixNorm = confusion_matrix(y_test, y_pred, normalize='pred')"
   ]
  },
  {
   "cell_type": "code",
   "execution_count": 12,
   "id": "0bb82459-e402-46f2-9d01-ba3b89f33742",
   "metadata": {},
   "outputs": [
    {
     "data": {
      "image/png": "[encoded data removed]",
      "text/plain": [
       "<Figure size 1100x400 with 4 Axes>"
      ]
     },
     "metadata": {},
     "output_type": "display_data"
    }
   ],
   "source": [
    "fig, axes = plt.subplots(1,2, figsize=(11,4))\n",
    "\n",
    "sns.heatmap(confusionMatrix, annot=True, ax=axes[0], cmap='YlGnBu', fmt=\"d\")\n",
    "axes[0].set_title(\"Confusion Matrix\")\n",
    "axes[0].set_ylabel(\"True Label\")\n",
    "axes[0].set_xlabel(\"Predicted Label\")\n",
    "\n",
    "sns.heatmap(confusionMatrixNorm, annot=True, cmap='YlGnBu', ax=axes[1])\n",
    "axes[1].set_title(\"Normalized Predictions\")\n",
    "axes[1].set_ylabel(\"True Label\")\n",
    "axes[1].set_xlabel(\"Predicted Label\")\n",
    "\n",
    "plt.show()"
   ]
  },
  {
   "cell_type": "markdown",
   "id": "7286792d-eff1-47cd-95cb-5e58e85faf47",
   "metadata": {},
   "source": [
    "### Classification Report"
   ]
  },
  {
   "cell_type": "code",
   "execution_count": 13,
   "id": "73eb18fa-22a9-43dc-b1b7-c6ca13237980",
   "metadata": {},
   "outputs": [
    {
     "name": "stdout",
     "output_type": "stream",
     "text": [
      "              precision    recall  f1-score   support\n",
      "\n",
      "Unsuccessful       0.92      0.97      0.95     12789\n",
      "  Successful       0.64      0.39      0.48      1680\n",
      "\n",
      "    accuracy                           0.90     14469\n",
      "   macro avg       0.78      0.68      0.71     14469\n",
      "weighted avg       0.89      0.90      0.89     14469\n",
      "\n"
     ]
    }
   ],
   "source": [
    "target_names = ['Unsuccessful', 'Successful']\n",
    "print(classification_report(y_test, y_pred, target_names=target_names))"
   ]
  },
  {
   "cell_type": "markdown",
   "id": "b6421d08-e48c-4684-9ec1-14a1479fc058",
   "metadata": {},
   "source": [
    "### ROC Curve"
   ]
  },
  {
   "cell_type": "code",
   "execution_count": 14,
   "id": "3632351a-7857-4dcf-b65d-c8c53253df3c",
   "metadata": {},
   "outputs": [
    {
     "data": {
      "image/png": "[encoded data removed]",
      "text/plain": [
       "<Figure size 640x480 with 1 Axes>"
      ]
     },
     "metadata": {},
     "output_type": "display_data"
    }
   ],
   "source": [
    "y_pred_proba = classifier.predict_proba(x_test)[:,1]\n",
    "fpr, tpr, _ = roc_curve(y_test,  y_pred_proba)\n",
    "auc = roc_auc_score(y_test, y_pred_proba)\n",
    "\n",
    "plt.plot(fpr,tpr,label=\"AUC = \"+str(auc))\n",
    "plt.xlabel(\"False Positive Rate\")\n",
    "plt.ylabel(\"True Positive Rate\")\n",
    "plt.legend(loc=4)\n",
    "plt.show()"
   ]
  },
  {
   "cell_type": "code",
   "execution_count": null,
   "id": "00bdd5ee-5de7-47fb-a00e-14b834ef1b01",
   "metadata": {},
   "outputs": [],
   "source": []
  },
  {
   "cell_type": "code",
   "execution_count": null,
   "id": "b2c560f4-4a2e-4783-908a-7d9102cdfffd",
   "metadata": {},
   "outputs": [],
   "source": []
  }
 ],
 "metadata": {
  "kernelspec": {
   "display_name": "python-ml-1",
   "language": "python",
   "name": "python-ml-1"
  },
  "language_info": {
   "codemirror_mode": {
    "name": "ipython",
    "version": 3
   },
   "file_extension": ".py",
   "mimetype": "text/x-python",
   "name": "python",
   "nbconvert_exporter": "python",
   "pygments_lexer": "ipython3",
   "version": "3.12.9"
  }
 },
 "nbformat": 4,
 "nbformat_minor": 5
}
